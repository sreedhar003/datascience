{
  "metadata": {
    "kernelspec": {
      "name": "python",
      "display_name": "Python (Pyodide)",
      "language": "python"
    },
    "language_info": {
      "codemirror_mode": {
        "name": "python",
        "version": 3
      },
      "file_extension": ".py",
      "mimetype": "text/x-python",
      "name": "python",
      "nbconvert_exporter": "python",
      "pygments_lexer": "ipython3",
      "version": "3.8"
    }
  },
  "nbformat_minor": 4,
  "nbformat": 4,
  "cells": [
    {
      "cell_type": "markdown",
      "source": "\n<h1>Data Science Tools and Ecosystem</h1>\n",
      "metadata": {
        "scrolled": true
      }
    },
    {
      "cell_type": "markdown",
      "source": "<h2>In this notebook, Data Science Tools and Ecosystem are summarized.</h2>\n",
      "metadata": {}
    },
    {
      "cell_type": "markdown",
      "source": "<h3>Objectives:</h3>\n\n<ul>\n<li>Swift</li>\n<li>Python</li>\n<li>SQL</li>\n<li>Matlab</li>\n<li>Julia</li>\n    \n</ul>",
      "metadata": {}
    },
    {
      "cell_type": "markdown",
      "source": "<p>Some of the popular languages that Data Scientists use are:</P>",
      "metadata": {}
    },
    {
      "cell_type": "markdown",
      "source": "<ol>\n<li>SQL</li>\n<li>Python</li>\n<li>R Studio</li>\n</ol>",
      "metadata": {}
    },
    {
      "cell_type": "markdown",
      "source": "<ol>Some of the commonly used libraries used by Data Scientists include:\n<li>Numpy</li>\n<li>Pandas</li>\n<li>SciPy</li>\n<li>Matplotlib</li>\n</ol>",
      "metadata": {}
    },
    {
      "cell_type": "markdown",
      "source": "<table>\n        <tr>\n            <th>Data Science Tools</td>\n        </tr>\n        <tr>\n            <td>Apache Spark</td>\n        </tr>\n        <tr>\n            <td>Jupyter Notebook</td>\n        </tr>\n        <tr>\n            <td>Scikit-learn</td>\n        </tr>\n        <tr>\n            <td>Tableau</td>\n        </tr>\n        <tr>\n            <td>Python</td>\n        </tr>\n    </table>",
      "metadata": {}
    },
    {
      "cell_type": "markdown",
      "source": "<h3>Below are a few examples of evaluating arithmetic expressions in Python</h3>",
      "metadata": {}
    },
    {
      "cell_type": "code",
      "source": "#This a simple arithmetic expression to mutiply then add integers\n(3*4)+5",
      "metadata": {
        "trusted": true
      },
      "outputs": [
        {
          "execution_count": 2,
          "output_type": "execute_result",
          "data": {
            "text/plain": "17"
          },
          "metadata": {}
        }
      ],
      "execution_count": 2
    },
    {
      "cell_type": "code",
      "source": "#This will convert 200 minutes to hours by diving by 60\n200/60",
      "metadata": {
        "trusted": true
      },
      "outputs": [
        {
          "execution_count": 3,
          "output_type": "execute_result",
          "data": {
            "text/plain": "3.3333333333333335"
          },
          "metadata": {}
        }
      ],
      "execution_count": 3
    },
    {
      "cell_type": "markdown",
      "source": "<h2>Author</h2>\n<p>S.Sreedhar</p>",
      "metadata": {}
    },
    {
      "cell_type": "code",
      "source": "",
      "metadata": {
        "trusted": true
      },
      "outputs": [],
      "execution_count": null
    }
  ]
}